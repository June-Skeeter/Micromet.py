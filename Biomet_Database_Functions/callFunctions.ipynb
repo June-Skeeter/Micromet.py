{
 "cells": [
  {
   "cell_type": "markdown",
   "metadata": {},
   "source": [
    "## Read the Biomet Database\n",
    "\n",
    "This Notebook can be used to run the MakeCSV script.  It can also be called from command line (see README)."
   ]
  },
  {
   "cell_type": "code",
   "execution_count": 3,
   "metadata": {},
   "outputs": [
    {
     "name": "stdout",
     "output_type": "stream",
     "text": [
      "Creating .csv files for RBM: Biomet\n",
      "Creating .csv files for RBM: Kljun_FFP_Inputs\n",
      "Trace does not exist W:/2022/RBM/Clean/SecondStage/canopy_height , proceeding without\n",
      "Trace does not exist W:/2022/RBM/Clean/SecondStage/hpbl , proceeding without\n"
     ]
    }
   ],
   "source": [
    "import importlib\n",
    "import ReadDatabase\n",
    "importlib.reload(ReadDatabase)\n",
    "\n",
    "Make = ReadDatabase.MakeCSV(['RBM'],[y for y in range(2022,2023)])"
   ]
  },
  {
   "cell_type": "code",
   "execution_count": 8,
   "metadata": {},
   "outputs": [
    {
     "data": {
      "text/plain": [
       "'ini/ReadTraces.ini'"
      ]
     },
     "execution_count": 8,
     "metadata": {},
     "output_type": "execute_result"
    }
   ],
   "source": [
    "import configparser\n",
    "\n",
    "config = configparser.ConfigParser()\n",
    "config.read('ini/config.ini')\n",
    "config.read(config['Read']['ini'])\n",
    "config['Output']['Requests']\n",
    "config['Read']['ini']"
   ]
  },
  {
   "cell_type": "code",
   "execution_count": 10,
   "metadata": {},
   "outputs": [
    {
     "data": {
      "text/html": [
       "<div>\n",
       "<style scoped>\n",
       "    .dataframe tbody tr th:only-of-type {\n",
       "        vertical-align: middle;\n",
       "    }\n",
       "\n",
       "    .dataframe tbody tr th {\n",
       "        vertical-align: top;\n",
       "    }\n",
       "\n",
       "    .dataframe thead th {\n",
       "        text-align: right;\n",
       "    }\n",
       "</style>\n",
       "<table border=\"1\" class=\"dataframe\">\n",
       "  <thead>\n",
       "    <tr style=\"text-align: right;\">\n",
       "      <th></th>\n",
       "    </tr>\n",
       "  </thead>\n",
       "  <tbody>\n",
       "  </tbody>\n",
       "</table>\n",
       "</div>"
      ],
      "text/plain": [
       "Empty DataFrame\n",
       "Columns: []\n",
       "Index: []"
      ]
     },
     "execution_count": 10,
     "metadata": {},
     "output_type": "execute_result"
    }
   ],
   "source": [
    "Make.AllData.head()"
   ]
  },
  {
   "cell_type": "markdown",
   "metadata": {},
   "source": [
    "## Write to the Biomet Database\n",
    "\n",
    "* Can only be done from vinimet"
   ]
  },
  {
   "cell_type": "code",
   "execution_count": 21,
   "metadata": {},
   "outputs": [
    {
     "name": "stdout",
     "output_type": "stream",
     "text": [
      "(17568, 0)\n",
      "(17568, 1)\n",
      "\n",
      "(17520, 0)\n",
      "(17520, 1)\n",
      "\n",
      "(17520, 0)\n",
      "(17520, 1)\n",
      "\n",
      "(17520, 0)\n",
      "(17520, 1)\n",
      "\n"
     ]
    }
   ],
   "source": [
    "import importlib\n",
    "import WriteDatabase\n",
    "importlib.reload(WriteDatabase)\n",
    "\n",
    "Make = WriteDatabase.MakeTraces('WriteTraces_NARR.ini')\n",
    "\n"
   ]
  },
  {
   "cell_type": "code",
   "execution_count": 23,
   "metadata": {},
   "outputs": [
    {
     "data": {
      "text/html": [
       "<div>\n",
       "<style scoped>\n",
       "    .dataframe tbody tr th:only-of-type {\n",
       "        vertical-align: middle;\n",
       "    }\n",
       "\n",
       "    .dataframe tbody tr th {\n",
       "        vertical-align: top;\n",
       "    }\n",
       "\n",
       "    .dataframe thead th {\n",
       "        text-align: right;\n",
       "    }\n",
       "</style>\n",
       "<table border=\"1\" class=\"dataframe\">\n",
       "  <thead>\n",
       "    <tr style=\"text-align: right;\">\n",
       "      <th></th>\n",
       "      <th>BB</th>\n",
       "      <th>clean_tv</th>\n",
       "    </tr>\n",
       "    <tr>\n",
       "      <th>Timestamp</th>\n",
       "      <th></th>\n",
       "      <th></th>\n",
       "    </tr>\n",
       "  </thead>\n",
       "  <tbody>\n",
       "    <tr>\n",
       "      <th>2023-01-01 00:30:00</th>\n",
       "      <td>254.3</td>\n",
       "      <td>738887.020833</td>\n",
       "    </tr>\n",
       "    <tr>\n",
       "      <th>2023-01-01 01:00:00</th>\n",
       "      <td>181.4</td>\n",
       "      <td>738887.041667</td>\n",
       "    </tr>\n",
       "    <tr>\n",
       "      <th>2023-01-01 01:30:00</th>\n",
       "      <td>167.7</td>\n",
       "      <td>738887.062500</td>\n",
       "    </tr>\n",
       "    <tr>\n",
       "      <th>2023-01-01 02:00:00</th>\n",
       "      <td>153.9</td>\n",
       "      <td>738887.083333</td>\n",
       "    </tr>\n",
       "    <tr>\n",
       "      <th>2023-01-01 02:30:00</th>\n",
       "      <td>140.2</td>\n",
       "      <td>738887.104167</td>\n",
       "    </tr>\n",
       "    <tr>\n",
       "      <th>...</th>\n",
       "      <td>...</td>\n",
       "      <td>...</td>\n",
       "    </tr>\n",
       "    <tr>\n",
       "      <th>2023-12-31 22:00:00</th>\n",
       "      <td>NaN</td>\n",
       "      <td>739251.916667</td>\n",
       "    </tr>\n",
       "    <tr>\n",
       "      <th>2023-12-31 22:30:00</th>\n",
       "      <td>NaN</td>\n",
       "      <td>739251.937500</td>\n",
       "    </tr>\n",
       "    <tr>\n",
       "      <th>2023-12-31 23:00:00</th>\n",
       "      <td>NaN</td>\n",
       "      <td>739251.958333</td>\n",
       "    </tr>\n",
       "    <tr>\n",
       "      <th>2023-12-31 23:30:00</th>\n",
       "      <td>NaN</td>\n",
       "      <td>739251.979167</td>\n",
       "    </tr>\n",
       "    <tr>\n",
       "      <th>2024-01-01 00:00:00</th>\n",
       "      <td>NaN</td>\n",
       "      <td>739252.000000</td>\n",
       "    </tr>\n",
       "  </tbody>\n",
       "</table>\n",
       "<p>17520 rows × 2 columns</p>\n",
       "</div>"
      ],
      "text/plain": [
       "                        BB       clean_tv\n",
       "Timestamp                                \n",
       "2023-01-01 00:30:00  254.3  738887.020833\n",
       "2023-01-01 01:00:00  181.4  738887.041667\n",
       "2023-01-01 01:30:00  167.7  738887.062500\n",
       "2023-01-01 02:00:00  153.9  738887.083333\n",
       "2023-01-01 02:30:00  140.2  738887.104167\n",
       "...                    ...            ...\n",
       "2023-12-31 22:00:00    NaN  739251.916667\n",
       "2023-12-31 22:30:00    NaN  739251.937500\n",
       "2023-12-31 23:00:00    NaN  739251.958333\n",
       "2023-12-31 23:30:00    NaN  739251.979167\n",
       "2024-01-01 00:00:00    NaN  739252.000000\n",
       "\n",
       "[17520 rows x 2 columns]"
      ]
     },
     "execution_count": 23,
     "metadata": {},
     "output_type": "execute_result"
    }
   ],
   "source": [
    "Make.Year"
   ]
  },
  {
   "cell_type": "code",
   "execution_count": 86,
   "metadata": {},
   "outputs": [
    {
     "data": {
      "text/plain": [
       "0   2000-11-11 00:00:00\n",
       "1   2023-02-13 23:30:00\n",
       "Name: date, dtype: datetime64[ns]"
      ]
     },
     "execution_count": 86,
     "metadata": {},
     "output_type": "execute_result"
    }
   ],
   "source": [
    "import pandas as pd# Make.Met\n",
    "Test = {'Year':['2000','2023'],\n",
    "        'month':['11','02'],\n",
    "        'day':['11','13'],\n",
    "        'HHMM':['0000','2330']}\n",
    "\n",
    "Data = pd.DataFrame(data=Test)\n",
    "\n",
    "Data['date'] = ''\n",
    "# pd\n",
    "for c,s in zip(['Year','month','day','HHMM'],['','','','']):\n",
    "    Data['date'] = Data['date'].str.cat(Data[c],sep=s)\n",
    "pd.to_datetime(Data['date'],format='%Y%m%d%H%M')"
   ]
  }
 ],
 "metadata": {
  "kernelspec": {
   "display_name": ".venv",
   "language": "python",
   "name": "python3"
  },
  "language_info": {
   "codemirror_mode": {
    "name": "ipython",
    "version": 3
   },
   "file_extension": ".py",
   "mimetype": "text/x-python",
   "name": "python",
   "nbconvert_exporter": "python",
   "pygments_lexer": "ipython3",
   "version": "3.10.4"
  },
  "orig_nbformat": 4
 },
 "nbformat": 4,
 "nbformat_minor": 2
}
